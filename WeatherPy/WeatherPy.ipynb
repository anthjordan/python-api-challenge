{
 "cells": [
  {
   "cell_type": "code",
   "execution_count": 4,
   "id": "819d0973-10c0-4d1b-b041-a67a8f5309a0",
   "metadata": {},
   "outputs": [],
   "source": [
    "# Dependencies and Setup\n",
    "import matplotlib.pyplot as plt\n",
    "import pandas as pd\n",
    "import numpy as np\n",
    "import requests\n",
    "import time\n",
    "from scipy.stats import linregress\n",
    "\n",
    "# Import  the OpenWeatherMap API key\n",
    "from api_keys import weather_key\n",
    "\n",
    "# Import citipy to determine the cities based on Latitude and Longitude\n",
    "from citipy import citipy"
   ]
  },
  {
   "cell_type": "code",
   "execution_count": 5,
   "id": "2cd88649-901e-4901-961a-021b18f93fc4",
   "metadata": {},
   "outputs": [
    {
     "name": "stdout",
     "output_type": "stream",
     "text": [
      "Number of cities in the list: 580\n"
     ]
    }
   ],
   "source": [
    "# Empty list for holding the latitude and longitude combination\n",
    "lat_lngs =[]\n",
    "\n",
    "# Empty list for holding the cities names\n",
    "cities = []\n",
    "\n",
    "# Rangge of latitude and longitudes\n",
    "lat_range = (-90, 90)\n",
    "lng_range = (-180, 180)\n",
    "\n",
    "# Create a set of random lat and lng combinations\n",
    "lats = np.random.uniform(lat_range[0], lat_range[1], size=1500)\n",
    "lngs = np.random.uniform(lng_range[0], lng_range[1], size=1500)\n",
    "lat_lngs = zip(lats, lngs)\n",
    "\n",
    "# Identify nearest for each lat, lng combination\n",
    "for lat_lng in lat_lngs:\n",
    "    city = citipy.nearest_city(lat_lng[0], lat_lng[1]).city_name\n",
    "    \n",
    "    # If the city is unique, then add it to a our cities list\n",
    "    if city  not in cities:\n",
    "        cities.append(city)\n",
    "        \n",
    "#Print the city count to confirm sufficient count\n",
    "print(f\"Number of cities in the list: {len(cities)}\")\n",
    "      "
   ]
  },
  {
   "cell_type": "code",
   "execution_count": 7,
   "id": "c9636f09-9bf4-4c9c-ab75-cf67d6de41d6",
   "metadata": {},
   "outputs": [
    {
     "ename": "SyntaxError",
     "evalue": "invalid syntax (3685072624.py, line 2)",
     "output_type": "error",
     "traceback": [
      "\u001b[1;36m  File \u001b[1;32m\"C:\\Users\\Noel\\AppData\\Local\\Temp\\ipykernel_16444\\3685072624.py\"\u001b[1;36m, line \u001b[1;32m2\u001b[0m\n\u001b[1;33m    url = http://api.openweathermap.org\u001b[0m\n\u001b[1;37m              ^\u001b[0m\n\u001b[1;31mSyntaxError\u001b[0m\u001b[1;31m:\u001b[0m invalid syntax\n"
     ]
    }
   ],
   "source": [
    "# setup the API base URL\n",
    "url = \"https://api.openweathermap.org\"\n",
    "\n",
    "# define an empty list to fetch the weather dat fro each city\n",
    "city_data =[]\n",
    "\n",
    "# print to logger\n",
    "print(\"Beginning Data Retrieval    \")\n",
    "print(\"----------------------------\")\n",
    "\n",
    "# Create counters\n",
    "record_counts = 1\n",
    "set_count = 1\n",
    "\n",
    "# Loop through all the cities in  our list to fetch weather data\n",
    "for i, city in enumerate(cities):\n",
    "    \n",
    "    # Group cities in sets of 50 for logging purposes\n",
    "    if (i % 50 == 0 and i >= 50):\n",
    "        set_count += 1\n",
    "        record_count = 0\n",
    "        \n",
    "# Create endpoint URL with each city\n",
    "city_url = f\"{url}geo/1.0/direct?q={city}&appid={weather_key}\"\n",
    "\n",
    "# Log  the url, record, and set numbers\n",
    "print(\"Processing Record %s of Set %s | %s\" % (record_count, set_count, city))\n",
    "\n",
    "# Add 1 to the record count\n",
    "record_count += 1\n",
    "\n",
    "# Run an API request for each of the cities\n",
    "\n",
    "try:\n",
    "    # Pase the JSON and retrieve data\n",
    "    city_weather = requests.get(https://api.openweathermap.org/geo/1.0/direct?q=phoenix&appid={weather_key})\n",
    "    \n",
    "    # Parse the JSON and retrieve data\n",
    "    city_lat = \n",
    "    city_lng = \n",
    "    city_max_temp =\n",
    "    city_humidity =\n",
    "    city_clouds =\n",
    "    city_wind = \n",
    "    city_country =\n",
    "    city_date =\n",
    "    \n",
    "    # Append the City information into city_data list\n",
    "    cit_data.append({\"City\": city,\n",
    "                     \"Lat\": city_lat,\n",
    "                     \"Lng\": city_lng,\n",
    "                     \"Max Temp\": city_max_temp,\n",
    "                     \"Humidity\": city_humidity,\n",
    "                     \"Cloudiness\": city_clouds,\n",
    "                     \"Wind Spedd\": city_wind,\n",
    "                     \"Country\": city_country,\n",
    "                     \"Date\": city_date})\n",
    "    \n",
    "    # if an error is experienced, skip the city\n",
    "    except:\n",
    "        print(\"City not found. Skipping...\")\n",
    "        pass\n",
    "    # Indicate the data Loading is complete\n",
    "    \n",
    "print(\"--------------------------------\")\n",
    "print(\"Data Retrieval Complete         \")\n",
    "print(\"--------------------------------\")"
   ]
  },
  {
   "cell_type": "code",
   "execution_count": null,
   "id": "3f49093d-08b7-4205-a0b2-ca9377c7b514",
   "metadata": {},
   "outputs": [],
   "source": [
    "city_weather = requests.get(f'api.openweathermap.org/data/2.5/forecast/daily?lat=44.34&lon=10.99&cnt=7&appid={weather_key}').json()\n",
    "city_weather\n"
   ]
  },
  {
   "cell_type": "code",
   "execution_count": null,
   "id": "ad90606f-9a41-4c93-a282-d89d5a899304",
   "metadata": {},
   "outputs": [],
   "source": []
  }
 ],
 "metadata": {
  "kernelspec": {
   "display_name": "Python 3 (ipykernel)",
   "language": "python",
   "name": "python3"
  },
  "language_info": {
   "codemirror_mode": {
    "name": "ipython",
    "version": 3
   },
   "file_extension": ".py",
   "mimetype": "text/x-python",
   "name": "python",
   "nbconvert_exporter": "python",
   "pygments_lexer": "ipython3",
   "version": "3.10.9"
  }
 },
 "nbformat": 4,
 "nbformat_minor": 5
}
