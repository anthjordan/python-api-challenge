{
 "cells": [
  {
   "cell_type": "code",
   "execution_count": null,
   "id": "c63f13b3-d31c-43cf-821d-971a3d048d1f",
   "metadata": {},
   "outputs": [],
   "source": [
    "#Dependencies and setup\n",
    "import hvplot.pandas\n",
    "import pandas as pd\n",
    "import requests\n",
    "\n",
    "#Import API keys\n",
    "from api_keys import weather_key\n",
    "from api_keys import geo_key"
   ]
  },
  {
   "cell_type": "code",
   "execution_count": null,
   "id": "4f689843-14f3-458b-b274-262196cd20c8",
   "metadata": {},
   "outputs": [],
   "source": [
    "#load CSV file created in Part 1 into a Pandas DataFrame\n"
   ]
  }
 ],
 "metadata": {
  "kernelspec": {
   "display_name": "Python 3 (ipykernel)",
   "language": "python",
   "name": "python3"
  },
  "language_info": {
   "codemirror_mode": {
    "name": "ipython",
    "version": 3
   },
   "file_extension": ".py",
   "mimetype": "text/x-python",
   "name": "python",
   "nbconvert_exporter": "python",
   "pygments_lexer": "ipython3",
   "version": "3.9.13"
  }
 },
 "nbformat": 4,
 "nbformat_minor": 5
}
